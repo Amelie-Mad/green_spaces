{
 "cells": [
  {
   "cell_type": "code",
   "execution_count": 60,
   "id": "e4a3cb5d",
   "metadata": {},
   "outputs": [],
   "source": [
    "import pandas as pd\n",
    "import numpy as np  \n",
    "import pandas as pd  \n",
    "import matplotlib.pyplot as plt \n",
    "import seaborn as sns\n",
    "from sklearn.linear_model import LinearRegression\n",
    "import re"
   ]
  },
  {
   "cell_type": "markdown",
   "id": "78bb9c11",
   "metadata": {},
   "source": [
    "# Read and clean homicide & green space data"
   ]
  },
  {
   "cell_type": "code",
   "execution_count": 61,
   "id": "f93f6842",
   "metadata": {},
   "outputs": [],
   "source": [
    "url_hcount = \"https://raw.githubusercontent.com/Amelie-Mad/green_spaces/refs/heads/main/Data/homicide_2018.csv\"\n",
    "homicide_2018 = pd.read_csv(url_hcount)\n",
    "homicide_2018.loc[:, \"COUNT\"] = homicide_2018.COUNT.replace({\":\": None})\n",
    "homicide_2018 = homicide_2018.dropna()\n",
    "homicide_2018['COUNT'] = homicide_2018['COUNT'].apply(lambda x: int(x))"
   ]
  },
  {
   "cell_type": "code",
   "execution_count": 62,
   "id": "c0d9b4df",
   "metadata": {},
   "outputs": [
    {
     "data": {
      "text/plain": [
       "np.int64(0)"
      ]
     },
     "execution_count": 62,
     "metadata": {},
     "output_type": "execute_result"
    }
   ],
   "source": [
    "url_green = \"https://raw.githubusercontent.com/Amelie-Mad/green_spaces/refs/heads/main/Data/FUA_location_map.csv\"\n",
    "green_2018 = pd.read_csv(url_green)\n",
    "green_2018 = green_2018[['FUA code', 'FUA name', 'C_urban woody feature_FUA_%']]\n",
    "green_2018 = green_2018.rename(columns={\"FUA code\": \"FUA_CODE\", \"C_urban woody feature_FUA_%\": \"green\"})\n",
    "green_2018.green.isna().sum()"
   ]
  },
  {
   "cell_type": "markdown",
   "id": "879d97d1",
   "metadata": {},
   "source": [
    "## Use official Eurostat linkage table to match FUA and NUTs3 regions"
   ]
  },
  {
   "cell_type": "code",
   "execution_count": 63,
   "id": "d93a28e4",
   "metadata": {},
   "outputs": [],
   "source": [
    "url_linkage_table = \"https://raw.githubusercontent.com/Amelie-Mad/green_spaces/refs/heads/main/Data/ind_1629_fua_n3_data.csv\"\n",
    "# The data does not have headers. In fact, some of the columns are not very informative and merely contain a single observation\n",
    "fua_nuts = pd.read_csv(url_linkage_table, header = None, names=['number','FUA_code','FUA_N3','NUTS','3','year','NUTS3', 'NUTS3_name','Description','link','FUA']) #read the official linkage table between FUA and NUTs3\n",
    "fua_nuts.loc[:, 'FUA'] = fua_nuts.FUA.replace({\"no FUA associated\": None})\n",
    "fua_nuts = fua_nuts.dropna()\n",
    "fua_nuts['FUA_CODE'] = fua_nuts.FUA.apply(lambda x: re.sub(r'L\\d+$', '', x))"
   ]
  },
  {
   "cell_type": "code",
   "execution_count": 64,
   "id": "902d7269",
   "metadata": {},
   "outputs": [
    {
     "data": {
      "text/html": [
       "<div>\n",
       "<style scoped>\n",
       "    .dataframe tbody tr th:only-of-type {\n",
       "        vertical-align: middle;\n",
       "    }\n",
       "\n",
       "    .dataframe tbody tr th {\n",
       "        vertical-align: top;\n",
       "    }\n",
       "\n",
       "    .dataframe thead th {\n",
       "        text-align: right;\n",
       "    }\n",
       "</style>\n",
       "<table border=\"1\" class=\"dataframe\">\n",
       "  <thead>\n",
       "    <tr style=\"text-align: right;\">\n",
       "      <th></th>\n",
       "      <th>FUA_CODE</th>\n",
       "      <th>FUA name</th>\n",
       "      <th>green</th>\n",
       "      <th>NUTS3</th>\n",
       "      <th>REGION</th>\n",
       "      <th>COUNT</th>\n",
       "      <th>country</th>\n",
       "    </tr>\n",
       "  </thead>\n",
       "  <tbody>\n",
       "    <tr>\n",
       "      <th>0</th>\n",
       "      <td>AT001</td>\n",
       "      <td>Wien</td>\n",
       "      <td>27.006670</td>\n",
       "      <td>AT112</td>\n",
       "      <td>Nordburgenland</td>\n",
       "      <td>1</td>\n",
       "      <td>AT</td>\n",
       "    </tr>\n",
       "    <tr>\n",
       "      <th>1</th>\n",
       "      <td>AT001</td>\n",
       "      <td>Wien</td>\n",
       "      <td>27.006670</td>\n",
       "      <td>AT125</td>\n",
       "      <td>Weinviertel</td>\n",
       "      <td>1</td>\n",
       "      <td>AT</td>\n",
       "    </tr>\n",
       "    <tr>\n",
       "      <th>2</th>\n",
       "      <td>AT001</td>\n",
       "      <td>Wien</td>\n",
       "      <td>27.006670</td>\n",
       "      <td>AT126</td>\n",
       "      <td>Wiener Umland/Nordteil</td>\n",
       "      <td>2</td>\n",
       "      <td>AT</td>\n",
       "    </tr>\n",
       "    <tr>\n",
       "      <th>3</th>\n",
       "      <td>AT001</td>\n",
       "      <td>Wien</td>\n",
       "      <td>27.006670</td>\n",
       "      <td>AT127</td>\n",
       "      <td>Wiener Umland/Südteil</td>\n",
       "      <td>3</td>\n",
       "      <td>AT</td>\n",
       "    </tr>\n",
       "    <tr>\n",
       "      <th>4</th>\n",
       "      <td>AT001</td>\n",
       "      <td>Wien</td>\n",
       "      <td>27.006670</td>\n",
       "      <td>AT130</td>\n",
       "      <td>Wien</td>\n",
       "      <td>34</td>\n",
       "      <td>AT</td>\n",
       "    </tr>\n",
       "    <tr>\n",
       "      <th>...</th>\n",
       "      <td>...</td>\n",
       "      <td>...</td>\n",
       "      <td>...</td>\n",
       "      <td>...</td>\n",
       "      <td>...</td>\n",
       "      <td>...</td>\n",
       "      <td>...</td>\n",
       "    </tr>\n",
       "    <tr>\n",
       "      <th>543</th>\n",
       "      <td>SK004</td>\n",
       "      <td>Nitra</td>\n",
       "      <td>15.857479</td>\n",
       "      <td>SK023</td>\n",
       "      <td>Nitriansky kraj</td>\n",
       "      <td>5</td>\n",
       "      <td>SK</td>\n",
       "    </tr>\n",
       "    <tr>\n",
       "      <th>544</th>\n",
       "      <td>SK005</td>\n",
       "      <td>Prešov</td>\n",
       "      <td>49.872260</td>\n",
       "      <td>SK041</td>\n",
       "      <td>Prešovský kraj</td>\n",
       "      <td>2</td>\n",
       "      <td>SK</td>\n",
       "    </tr>\n",
       "    <tr>\n",
       "      <th>545</th>\n",
       "      <td>SK006</td>\n",
       "      <td>Žilina</td>\n",
       "      <td>65.374306</td>\n",
       "      <td>SK031</td>\n",
       "      <td>Žilinský kraj</td>\n",
       "      <td>7</td>\n",
       "      <td>SK</td>\n",
       "    </tr>\n",
       "    <tr>\n",
       "      <th>546</th>\n",
       "      <td>SK007</td>\n",
       "      <td>Trnava</td>\n",
       "      <td>22.495782</td>\n",
       "      <td>SK021</td>\n",
       "      <td>Trnavský kraj</td>\n",
       "      <td>16</td>\n",
       "      <td>SK</td>\n",
       "    </tr>\n",
       "    <tr>\n",
       "      <th>547</th>\n",
       "      <td>SK008</td>\n",
       "      <td>Trenčín</td>\n",
       "      <td>57.377051</td>\n",
       "      <td>SK022</td>\n",
       "      <td>Trenčiansky kraj</td>\n",
       "      <td>5</td>\n",
       "      <td>SK</td>\n",
       "    </tr>\n",
       "  </tbody>\n",
       "</table>\n",
       "<p>548 rows × 7 columns</p>\n",
       "</div>"
      ],
      "text/plain": [
       "    FUA_CODE FUA name      green  NUTS3                  REGION  COUNT country\n",
       "0      AT001     Wien  27.006670  AT112          Nordburgenland      1      AT\n",
       "1      AT001     Wien  27.006670  AT125             Weinviertel      1      AT\n",
       "2      AT001     Wien  27.006670  AT126  Wiener Umland/Nordteil      2      AT\n",
       "3      AT001     Wien  27.006670  AT127   Wiener Umland/Südteil      3      AT\n",
       "4      AT001     Wien  27.006670  AT130                    Wien     34      AT\n",
       "..       ...      ...        ...    ...                     ...    ...     ...\n",
       "543    SK004    Nitra  15.857479  SK023         Nitriansky kraj      5      SK\n",
       "544    SK005   Prešov  49.872260  SK041          Prešovský kraj      2      SK\n",
       "545    SK006   Žilina  65.374306  SK031           Žilinský kraj      7      SK\n",
       "546    SK007   Trnava  22.495782  SK021           Trnavský kraj     16      SK\n",
       "547    SK008  Trenčín  57.377051  SK022        Trenčiansky kraj      5      SK\n",
       "\n",
       "[548 rows x 7 columns]"
      ]
     },
     "execution_count": 64,
     "metadata": {},
     "output_type": "execute_result"
    }
   ],
   "source": [
    "df = green_2018.merge(fua_nuts[['NUTS3', 'FUA_CODE']], on = 'FUA_CODE')\n",
    "df = df.merge(homicide_2018, left_on = \"NUTS3\", right_on = \"CODE\")\n",
    "df.drop('CODE', axis = 1, inplace = True)\n",
    "df['country'] = df['NUTS3'].apply(lambda x: x[0:2])\n",
    "df"
   ]
  },
  {
   "cell_type": "markdown",
   "id": "3ea7c226",
   "metadata": {},
   "source": [
    "# Temperature data"
   ]
  },
  {
   "cell_type": "code",
   "execution_count": 65,
   "id": "0f3641e9",
   "metadata": {},
   "outputs": [],
   "source": [
    "# The countries for which we have temperature data\n",
    "countries = ['Austria','Belgium','Denmark','France','Germany','Italy','Luxembourg','Netherlands','Poland','Portugal','Spain','Sweden','United_Kingdom']\n",
    "# The columns we are interested in\n",
    "columns = ['NUTS','Mean_AVG', 'Mean_Pre']\n",
    "# The final dataframe with all the countries\n",
    "meteo_df = pd.DataFrame(columns = columns)"
   ]
  },
  {
   "cell_type": "markdown",
   "id": "8d7bfcd5",
   "metadata": {},
   "source": [
    "The meteorological dataframes were too big to be uploaded on GitHub, so we store them locally and clean to select year 2018 exclusively, which is what we upload on github\n",
    "```python\n",
    "for country in countries:\n",
    "    path = f\"../Data (updated)/Meteorological indicator dataset for selected European NUTS 3 regions/{country}.csv\"\n",
    "    country_df = pd.read_csv(path, sep = \",\")\n",
    "    # Filter for year 2018\n",
    "    country_df = country_df[country_df['YEAR'] == 2018]\n",
    "    country_df.to_csv('../Data_final/Meteorological_datasets')\n",
    "```"
   ]
  },
  {
   "cell_type": "code",
   "execution_count": 66,
   "id": "ffb0013f",
   "metadata": {},
   "outputs": [
    {
     "name": "stderr",
     "output_type": "stream",
     "text": [
      "/var/folders/t8/crqx384x59sbfjcs2flq1d380000gn/T/ipykernel_26408/585190642.py:10: FutureWarning: The behavior of DataFrame concatenation with empty or all-NA entries is deprecated. In a future version, this will no longer exclude empty or all-NA columns when determining the result dtypes. To retain the old behavior, exclude the relevant entries before the concat operation.\n",
      "  meteo_df = pd.concat([meteo_df, country_df])\n"
     ]
    }
   ],
   "source": [
    "for country in countries:\n",
    "    path = f\"https://raw.githubusercontent.com/Amelie-Mad/green_spaces/refs/heads/main/Data/Meteorological_datasets/{country}.csv\"\n",
    "    country_df = pd.read_csv(path, sep = \",\")\n",
    "    # Filter for year 2018, already done in pre-cleaning before upload on GitHub\n",
    "    # country_df = country_df[country_df['YEAR'] == 2018]\n",
    "    # Filter for selected columns\n",
    "    country_df = country_df[columns]\n",
    "    # Yearly mean of temperature\n",
    "    country_df = country_df.groupby('NUTS')[['Mean_AVG', 'Mean_Pre']].mean().reset_index()\n",
    "    meteo_df = pd.concat([meteo_df, country_df])"
   ]
  },
  {
   "cell_type": "code",
   "execution_count": 67,
   "id": "8d29dd6d",
   "metadata": {},
   "outputs": [],
   "source": [
    "df = df.merge(meteo_df, left_on = 'NUTS3', right_on = 'NUTS')"
   ]
  },
  {
   "cell_type": "markdown",
   "id": "c83581ac",
   "metadata": {},
   "source": [
    "# Population"
   ]
  },
  {
   "cell_type": "markdown",
   "id": "ed567826",
   "metadata": {},
   "source": [
    "## Absolute"
   ]
  },
  {
   "cell_type": "code",
   "execution_count": 68,
   "id": "5fabf836",
   "metadata": {},
   "outputs": [],
   "source": [
    "df_pop = pd.read_excel('https://github.com/Amelie-Mad/green_spaces/raw/refs/heads/main/Data/population_original_data.xlsx', sheet_name = 2, header = 10)\n",
    "df_pop = df_pop.iloc[:,:52]\n",
    "drop_idx = list(range(3, df_pop.shape[1], 2))  # Starts from column 3 (index 2) and skips every second column\n",
    "columns_to_drop = df_pop.columns[drop_idx]    # Get the corresponding column labels\n",
    "\n",
    "# Drops the empty column after each year entry\n",
    "df_pop = df_pop.drop(columns_to_drop, axis=1)\n",
    "#Rename the columns\n",
    "df_pop.columns = ['NUTS3', 'region'] + [str(x) for x in range (2000,2024)]\n",
    "#Drop the NA rows\n",
    "df_pop = df_pop[df_pop['2018'].isna() == False]\n",
    "# Rename the columns with the population\n",
    "df_pop.columns = list(df_pop.columns[:2]) + [f'{i}_pop' for i in df_pop.columns[2:]]"
   ]
  },
  {
   "cell_type": "code",
   "execution_count": 69,
   "id": "0f4de79f",
   "metadata": {},
   "outputs": [],
   "source": [
    "df = df.merge(df_pop[['2018_pop','NUTS3']], on = \"NUTS3\")"
   ]
  },
  {
   "cell_type": "markdown",
   "id": "836e50c3",
   "metadata": {},
   "source": [
    "## Density"
   ]
  },
  {
   "cell_type": "code",
   "execution_count": 70,
   "id": "0975cc48",
   "metadata": {},
   "outputs": [
    {
     "name": "stderr",
     "output_type": "stream",
     "text": [
      "/Users/amelie/Library/CloudStorage/OneDrive-epfl.ch/02_Statistics & Data science/Data science project/Codes-Reese/.venv/lib/python3.9/site-packages/openpyxl/styles/stylesheet.py:237: UserWarning: Workbook contains no default style, apply openpyxl's default\n",
      "  warn(\"Workbook contains no default style, apply openpyxl's default\")\n"
     ]
    }
   ],
   "source": [
    "# Read the file, skip the empty lines at the beginning\n",
    "df_pop_dens = pd.read_excel('https://github.com/Amelie-Mad/green_spaces/raw/refs/heads/main/Data/population_density_original_data.xlsx', sheet_name = 2, header = 8)\n",
    "drop_idx = list(range(3, df_pop_dens.shape[1], 2))  # Starts from column 3 (index 2) and skips every other column\n",
    "columns_to_drop = df_pop_dens.columns[drop_idx]    # Get the corresponding column labels\n",
    "# Drops the empty column after each year entry\n",
    "df_pop_dens = df_pop_dens.drop(columns_to_drop, axis=1)\n",
    "# Rename the columns\n",
    "df_pop_dens.columns = ['NUTS3', 'region'] + [str(x) for x in range (2000,2023)]\n",
    "# Drop the NA rows\n",
    "df_pop_dens = df_pop_dens[df_pop_dens['2018'].isna() == False] \n",
    "# Rename the columns with the population\n",
    "df_pop_dens.columns = list(df_pop_dens.columns[:2]) + [f'{i}_pop_density' for i in df_pop_dens.columns[2:]]"
   ]
  },
  {
   "cell_type": "code",
   "execution_count": 71,
   "id": "ea29919d",
   "metadata": {},
   "outputs": [],
   "source": [
    "df = df.merge(df_pop_dens[['2018_pop_density','NUTS3']], on = \"NUTS3\")"
   ]
  },
  {
   "cell_type": "markdown",
   "id": "7f953fbc",
   "metadata": {},
   "source": [
    "# Education"
   ]
  },
  {
   "cell_type": "code",
   "execution_count": 72,
   "id": "8356f23f",
   "metadata": {},
   "outputs": [],
   "source": [
    "# Load dataset\n",
    "df_education = pd.read_excel('https://github.com/Amelie-Mad/green_spaces/raw/refs/heads/main/Data/education_original_data.xlsx', sheet_name = 2, header = 11)\n",
    "# Starts from column 3 (index 2) and skips every other column\n",
    "drop_idx = list(range(3, df_education.shape[1], 2))  \n",
    "# Get the corresponding column labels\n",
    "columns_to_drop = df_education.columns[drop_idx]    \n",
    "# Drops the empty column after each year entry\n",
    "df_education = df_education.drop(columns_to_drop, axis=1)\n",
    "# Rename the columns\n",
    "df_education.columns = ['NUTS2', 'region'] + [str(x) for x in range (2000,2024)]\n",
    "# Drop the NA rows\n",
    "df_education = df_education[df_education['2018'].isna() == False] \n",
    "# Rename the columns with the population\n",
    "df_education.columns = list(df_education.columns[:2]) + [f'{i}_education_rate' for i in df_education.columns[2:]]"
   ]
  },
  {
   "cell_type": "code",
   "execution_count": 73,
   "id": "48611ac3",
   "metadata": {},
   "outputs": [],
   "source": [
    "df['NUTS2'] = df['NUTS3'].str[:-1]\n",
    "df = df.merge(df_education[['NUTS2','2018_education_rate']], on = 'NUTS2')"
   ]
  },
  {
   "cell_type": "markdown",
   "id": "c4a4809d",
   "metadata": {},
   "source": [
    "# GDP"
   ]
  },
  {
   "cell_type": "code",
   "execution_count": 74,
   "id": "f6a96e83",
   "metadata": {},
   "outputs": [
    {
     "name": "stderr",
     "output_type": "stream",
     "text": [
      "/Users/amelie/Library/CloudStorage/OneDrive-epfl.ch/02_Statistics & Data science/Data science project/Codes-Reese/.venv/lib/python3.9/site-packages/openpyxl/styles/stylesheet.py:237: UserWarning: Workbook contains no default style, apply openpyxl's default\n",
      "  warn(\"Workbook contains no default style, apply openpyxl's default\")\n"
     ]
    }
   ],
   "source": [
    "# Load the GDP data\n",
    "url = \"https://github.com/Amelie-Mad/green_spaces/raw/refs/heads/main/Data/gdp_original_data.xlsx\"\n",
    "gdp_data = pd.read_excel(url, sheet_name=2, header=8)\n",
    "drop_idx = list(range(3, gdp_data.shape[1], 2)) \n",
    "# Get the corresponding column labels\n",
    "columns_to_drop = gdp_data.columns[drop_idx]    \n",
    "# Drops the empty column after each year entry\n",
    "gdp_data = gdp_data.drop(columns_to_drop, axis=1)\n",
    "# Step 1: Drop any irrelevant or unnamed columns\n",
    "gdp_data = gdp_data.apply(lambda x: x.replace({\":\": None}), axis = 1)\n",
    "\n",
    "gdp_data.columns = ['NUTS3', 'region'] + [str(x) for x in range (2000,2023)]\n",
    "gdp_data.columns = list(df_pop.columns[:2]) + [f'{i}_gdp' for i in gdp_data.columns[2:]]\n",
    "gdp_data = gdp_data.dropna(subset=['2018_gdp']).reset_index(drop=True)"
   ]
  },
  {
   "cell_type": "code",
   "execution_count": 75,
   "id": "1163f26a",
   "metadata": {},
   "outputs": [],
   "source": [
    "df = df.merge(gdp_data[['NUTS3','2018_gdp']], on = \"NUTS3\")"
   ]
  },
  {
   "cell_type": "code",
   "execution_count": 76,
   "id": "fdc51f96",
   "metadata": {},
   "outputs": [
    {
     "data": {
      "text/html": [
       "<div>\n",
       "<style scoped>\n",
       "    .dataframe tbody tr th:only-of-type {\n",
       "        vertical-align: middle;\n",
       "    }\n",
       "\n",
       "    .dataframe tbody tr th {\n",
       "        vertical-align: top;\n",
       "    }\n",
       "\n",
       "    .dataframe thead th {\n",
       "        text-align: right;\n",
       "    }\n",
       "</style>\n",
       "<table border=\"1\" class=\"dataframe\">\n",
       "  <thead>\n",
       "    <tr style=\"text-align: right;\">\n",
       "      <th></th>\n",
       "      <th>FUA_CODE</th>\n",
       "      <th>FUA name</th>\n",
       "      <th>green</th>\n",
       "      <th>NUTS3</th>\n",
       "      <th>REGION</th>\n",
       "      <th>COUNT</th>\n",
       "      <th>country</th>\n",
       "      <th>NUTS</th>\n",
       "      <th>Mean_AVG</th>\n",
       "      <th>Mean_Pre</th>\n",
       "      <th>2018_pop</th>\n",
       "      <th>2018_pop_density</th>\n",
       "      <th>NUTS2</th>\n",
       "      <th>2018_education_rate</th>\n",
       "      <th>2018_gdp</th>\n",
       "      <th>area</th>\n",
       "    </tr>\n",
       "  </thead>\n",
       "  <tbody>\n",
       "    <tr>\n",
       "      <th>0</th>\n",
       "      <td>AT001</td>\n",
       "      <td>Wien</td>\n",
       "      <td>27.006670</td>\n",
       "      <td>AT112</td>\n",
       "      <td>Nordburgenland</td>\n",
       "      <td>1</td>\n",
       "      <td>AT</td>\n",
       "      <td>AT112</td>\n",
       "      <td>12.560150</td>\n",
       "      <td>1.859040</td>\n",
       "      <td>157840</td>\n",
       "      <td>96.9</td>\n",
       "      <td>AT11</td>\n",
       "      <td>28.4</td>\n",
       "      <td>5272.15</td>\n",
       "      <td>1628.895769</td>\n",
       "    </tr>\n",
       "    <tr>\n",
       "      <th>1</th>\n",
       "      <td>AT001</td>\n",
       "      <td>Wien</td>\n",
       "      <td>27.006670</td>\n",
       "      <td>AT125</td>\n",
       "      <td>Weinviertel</td>\n",
       "      <td>1</td>\n",
       "      <td>AT</td>\n",
       "      <td>AT125</td>\n",
       "      <td>11.735572</td>\n",
       "      <td>1.488058</td>\n",
       "      <td>124893</td>\n",
       "      <td>52.3</td>\n",
       "      <td>AT12</td>\n",
       "      <td>31.9</td>\n",
       "      <td>2957.82</td>\n",
       "      <td>2388.011472</td>\n",
       "    </tr>\n",
       "    <tr>\n",
       "      <th>2</th>\n",
       "      <td>AT001</td>\n",
       "      <td>Wien</td>\n",
       "      <td>27.006670</td>\n",
       "      <td>AT126</td>\n",
       "      <td>Wiener Umland/Nordteil</td>\n",
       "      <td>2</td>\n",
       "      <td>AT</td>\n",
       "      <td>AT126</td>\n",
       "      <td>12.167048</td>\n",
       "      <td>1.659725</td>\n",
       "      <td>327072</td>\n",
       "      <td>123.7</td>\n",
       "      <td>AT12</td>\n",
       "      <td>31.9</td>\n",
       "      <td>9474.42</td>\n",
       "      <td>2644.074373</td>\n",
       "    </tr>\n",
       "    <tr>\n",
       "      <th>3</th>\n",
       "      <td>AT001</td>\n",
       "      <td>Wien</td>\n",
       "      <td>27.006670</td>\n",
       "      <td>AT127</td>\n",
       "      <td>Wiener Umland/Südteil</td>\n",
       "      <td>3</td>\n",
       "      <td>AT</td>\n",
       "      <td>AT127</td>\n",
       "      <td>12.632928</td>\n",
       "      <td>1.821677</td>\n",
       "      <td>339977</td>\n",
       "      <td>236.3</td>\n",
       "      <td>AT12</td>\n",
       "      <td>31.9</td>\n",
       "      <td>17675.29</td>\n",
       "      <td>1438.751587</td>\n",
       "    </tr>\n",
       "    <tr>\n",
       "      <th>4</th>\n",
       "      <td>AT001</td>\n",
       "      <td>Wien</td>\n",
       "      <td>27.006670</td>\n",
       "      <td>AT130</td>\n",
       "      <td>Wien</td>\n",
       "      <td>34</td>\n",
       "      <td>AT</td>\n",
       "      <td>AT130</td>\n",
       "      <td>13.385606</td>\n",
       "      <td>1.724924</td>\n",
       "      <td>1888776</td>\n",
       "      <td>4780.6</td>\n",
       "      <td>AT13</td>\n",
       "      <td>42.3</td>\n",
       "      <td>97152.54</td>\n",
       "      <td>395.091829</td>\n",
       "    </tr>\n",
       "    <tr>\n",
       "      <th>...</th>\n",
       "      <td>...</td>\n",
       "      <td>...</td>\n",
       "      <td>...</td>\n",
       "      <td>...</td>\n",
       "      <td>...</td>\n",
       "      <td>...</td>\n",
       "      <td>...</td>\n",
       "      <td>...</td>\n",
       "      <td>...</td>\n",
       "      <td>...</td>\n",
       "      <td>...</td>\n",
       "      <td>...</td>\n",
       "      <td>...</td>\n",
       "      <td>...</td>\n",
       "      <td>...</td>\n",
       "      <td>...</td>\n",
       "    </tr>\n",
       "    <tr>\n",
       "      <th>401</th>\n",
       "      <td>PT008</td>\n",
       "      <td>Aveiro</td>\n",
       "      <td>41.835130</td>\n",
       "      <td>PT16D</td>\n",
       "      <td>Região de Aveiro (NUTS 2021)</td>\n",
       "      <td>3</td>\n",
       "      <td>PT</td>\n",
       "      <td>PT16D</td>\n",
       "      <td>15.249451</td>\n",
       "      <td>3.191520</td>\n",
       "      <td>364423</td>\n",
       "      <td>221</td>\n",
       "      <td>PT16</td>\n",
       "      <td>24</td>\n",
       "      <td>7164.63</td>\n",
       "      <td>1648.972851</td>\n",
       "    </tr>\n",
       "    <tr>\n",
       "      <th>402</th>\n",
       "      <td>PT009</td>\n",
       "      <td>Faro</td>\n",
       "      <td>33.569282</td>\n",
       "      <td>PT150</td>\n",
       "      <td>Algarve</td>\n",
       "      <td>6</td>\n",
       "      <td>PT</td>\n",
       "      <td>PT150</td>\n",
       "      <td>16.945434</td>\n",
       "      <td>1.352969</td>\n",
       "      <td>456113</td>\n",
       "      <td>89</td>\n",
       "      <td>PT15</td>\n",
       "      <td>22.2</td>\n",
       "      <td>9729.59</td>\n",
       "      <td>5124.865169</td>\n",
       "    </tr>\n",
       "    <tr>\n",
       "      <th>403</th>\n",
       "      <td>PT014</td>\n",
       "      <td>Viseu</td>\n",
       "      <td>59.653290</td>\n",
       "      <td>PT16G</td>\n",
       "      <td>Viseu Dão Lafões (NUTS 2021)</td>\n",
       "      <td>1</td>\n",
       "      <td>PT</td>\n",
       "      <td>PT16G</td>\n",
       "      <td>14.744927</td>\n",
       "      <td>3.320604</td>\n",
       "      <td>254651</td>\n",
       "      <td>78.5</td>\n",
       "      <td>PT16</td>\n",
       "      <td>24</td>\n",
       "      <td>3789.93</td>\n",
       "      <td>3243.961783</td>\n",
       "    </tr>\n",
       "    <tr>\n",
       "      <th>404</th>\n",
       "      <td>PT016</td>\n",
       "      <td>Viana do Castelo</td>\n",
       "      <td>43.372124</td>\n",
       "      <td>PT111</td>\n",
       "      <td>Alto Minho</td>\n",
       "      <td>1</td>\n",
       "      <td>PT</td>\n",
       "      <td>PT111</td>\n",
       "      <td>14.608856</td>\n",
       "      <td>4.186990</td>\n",
       "      <td>232818</td>\n",
       "      <td>105.9</td>\n",
       "      <td>PT11</td>\n",
       "      <td>21.7</td>\n",
       "      <td>3600.31</td>\n",
       "      <td>2198.470255</td>\n",
       "    </tr>\n",
       "    <tr>\n",
       "      <th>405</th>\n",
       "      <td>PT505</td>\n",
       "      <td>Guimarães</td>\n",
       "      <td>41.842835</td>\n",
       "      <td>PT119</td>\n",
       "      <td>Ave</td>\n",
       "      <td>3</td>\n",
       "      <td>PT</td>\n",
       "      <td>PT119</td>\n",
       "      <td>14.540419</td>\n",
       "      <td>3.713470</td>\n",
       "      <td>416788</td>\n",
       "      <td>285.8</td>\n",
       "      <td>PT11</td>\n",
       "      <td>21.7</td>\n",
       "      <td>6917.59</td>\n",
       "      <td>1458.320504</td>\n",
       "    </tr>\n",
       "  </tbody>\n",
       "</table>\n",
       "<p>406 rows × 16 columns</p>\n",
       "</div>"
      ],
      "text/plain": [
       "    FUA_CODE          FUA name      green  NUTS3  \\\n",
       "0      AT001              Wien  27.006670  AT112   \n",
       "1      AT001              Wien  27.006670  AT125   \n",
       "2      AT001              Wien  27.006670  AT126   \n",
       "3      AT001              Wien  27.006670  AT127   \n",
       "4      AT001              Wien  27.006670  AT130   \n",
       "..       ...               ...        ...    ...   \n",
       "401    PT008            Aveiro  41.835130  PT16D   \n",
       "402    PT009              Faro  33.569282  PT150   \n",
       "403    PT014             Viseu  59.653290  PT16G   \n",
       "404    PT016  Viana do Castelo  43.372124  PT111   \n",
       "405    PT505         Guimarães  41.842835  PT119   \n",
       "\n",
       "                           REGION  COUNT country   NUTS   Mean_AVG  Mean_Pre  \\\n",
       "0                  Nordburgenland      1      AT  AT112  12.560150  1.859040   \n",
       "1                     Weinviertel      1      AT  AT125  11.735572  1.488058   \n",
       "2          Wiener Umland/Nordteil      2      AT  AT126  12.167048  1.659725   \n",
       "3           Wiener Umland/Südteil      3      AT  AT127  12.632928  1.821677   \n",
       "4                            Wien     34      AT  AT130  13.385606  1.724924   \n",
       "..                            ...    ...     ...    ...        ...       ...   \n",
       "401  Região de Aveiro (NUTS 2021)      3      PT  PT16D  15.249451  3.191520   \n",
       "402                       Algarve      6      PT  PT150  16.945434  1.352969   \n",
       "403  Viseu Dão Lafões (NUTS 2021)      1      PT  PT16G  14.744927  3.320604   \n",
       "404                    Alto Minho      1      PT  PT111  14.608856  4.186990   \n",
       "405                           Ave      3      PT  PT119  14.540419  3.713470   \n",
       "\n",
       "    2018_pop 2018_pop_density NUTS2 2018_education_rate  2018_gdp         area  \n",
       "0     157840             96.9  AT11                28.4   5272.15  1628.895769  \n",
       "1     124893             52.3  AT12                31.9   2957.82  2388.011472  \n",
       "2     327072            123.7  AT12                31.9   9474.42  2644.074373  \n",
       "3     339977            236.3  AT12                31.9  17675.29  1438.751587  \n",
       "4    1888776           4780.6  AT13                42.3  97152.54   395.091829  \n",
       "..       ...              ...   ...                 ...       ...          ...  \n",
       "401   364423              221  PT16                  24   7164.63  1648.972851  \n",
       "402   456113               89  PT15                22.2   9729.59  5124.865169  \n",
       "403   254651             78.5  PT16                  24   3789.93  3243.961783  \n",
       "404   232818            105.9  PT11                21.7   3600.31  2198.470255  \n",
       "405   416788            285.8  PT11                21.7   6917.59  1458.320504  \n",
       "\n",
       "[406 rows x 16 columns]"
      ]
     },
     "execution_count": 76,
     "metadata": {},
     "output_type": "execute_result"
    }
   ],
   "source": [
    "df['area'] = df['2018_pop'] / df['2018_pop_density'] #in km squared \n",
    "df"
   ]
  },
  {
   "cell_type": "markdown",
   "id": "32529e8c",
   "metadata": {},
   "source": [
    "# Aggregating on FUA"
   ]
  },
  {
   "cell_type": "code",
   "execution_count": 77,
   "id": "8f5c3b98",
   "metadata": {},
   "outputs": [],
   "source": [
    "df_fua = df.groupby('FUA_CODE').agg(fua_name = ('FUA name', 'first'),\n",
    "                                    country = ('country', 'first'),\n",
    "                                    h_sum = ('COUNT', 'sum'), \n",
    "                                    green = ('green', 'mean'),\n",
    "                                    mean_temp = ('Mean_AVG', 'mean'), \n",
    "                                    mean_pre = ('Mean_Pre', 'mean'), \n",
    "                                    sum_pop = ('2018_pop', 'sum'), \n",
    "                                    sum_area = ('area', 'sum'),\n",
    "                                    sum_gdp = ('2018_gdp', 'sum'),\n",
    "                                    mean_edu = ('2018_education_rate', 'mean')).reset_index()"
   ]
  },
  {
   "cell_type": "markdown",
   "id": "e01b6d53",
   "metadata": {},
   "source": [
    "When aggregating, we must pay attention to rate and ratio variables, which must not be averaged arithmetically. This is the case for crime rate, population density and GDP per capita. To avoid making this mistake, we keep all the components of these variables separate, add them up, and then calculate the variables of interest in a second stage.  That is, for a given city, we calculate:\n",
    "-\tAverage crime rate by summing the crime counts occurring in relevant regions and dividing by the sum of the population of these regions. \n",
    "-\tGDP per capita (in thousand euros) by summing GDP of the relevant regions and dividing by the sum of the population of these regions.\n",
    "-\tAverage population density (in thousand inhabitants per $km^2$) by summing the population of relevant regions and dividing by the total area of the regions. \n",
    "The other variables (temperature, precipitation, education) are averaged arithmetically. Looking back, it could have been more accurate to do a weighted average based on area for precipitation and based on population size for the education level. \n"
   ]
  },
  {
   "cell_type": "code",
   "execution_count": 78,
   "id": "809fd4d6",
   "metadata": {},
   "outputs": [],
   "source": [
    "df_fua['h_rate'] = (df_fua['h_sum'] / df_fua['sum_pop']) * 100000 # we convert crime per habitant into crime per hundred thousand inhabitants\n",
    "df_fua['gdp_pp'] = df_fua['sum_gdp'] / df_fua['sum_pop'] * 1000 # GDP is in mio euros, so we arrange to make it in thousand euros per capita\n",
    "df_fua['mean_pop_density'] = df_fua['sum_pop'] / (df_fua['sum_area'] * 1000) # population density in thousand persons per km^2\n",
    "\n",
    "df_fua.drop(['sum_gdp', 'sum_pop', 'h_sum', 'sum_area'], axis = 1, inplace = True)\n"
   ]
  },
  {
   "cell_type": "markdown",
   "id": "1c14f568",
   "metadata": {},
   "source": [
    "# Happiness"
   ]
  },
  {
   "cell_type": "code",
   "execution_count": 79,
   "id": "81c3864b",
   "metadata": {},
   "outputs": [],
   "source": [
    "# Loading the data about green space satisfaction\n",
    "green_satisfaction = pd.read_excel('https://github.com/Amelie-Mad/green_spaces/raw/refs/heads/main/Data/urb_percep__custom_13673917_page_spreadsheet.xlsx',\n",
    "                                   sheet_name=2,\n",
    "                                   header = 9)\n",
    "# We drop every second column, which contains no information\n",
    "drop_idx = list(range(2, green_satisfaction.shape[1], 2))\n",
    "columns_to_drop = green_satisfaction.columns[drop_idx]\n",
    "green_satisfaction = green_satisfaction.drop(columns_to_drop, axis=1)\n",
    "# We rename the columns according to the year they correspond with\n",
    "green_satisfaction.columns = ['city'] + [f\"{year}_satisfaction\" for year in ['2009', '2012', '2015', '2019', '2023']]\n",
    "\n",
    "green_satisfaction.dropna(inplace = True)\n",
    "\n",
    "# Replace : for missing values with NAs\n",
    "green_satisfaction = green_satisfaction.apply(lambda x: x.replace({\":\": None}), axis = 1)"
   ]
  },
  {
   "cell_type": "code",
   "execution_count": 80,
   "id": "5740b589",
   "metadata": {},
   "outputs": [],
   "source": [
    "# We merge the data about green space satisfaction with the main dataframe. We manually adjust for different city names which allows us to merge on name, although this is suboptimal.\n",
    "df_fua = df_fua.merge(green_satisfaction[['city','2019_satisfaction']], left_on = 'fua_name', right_on = 'city',how = 'left'\n",
    "                    ).drop('city', axis = 1)"
   ]
  },
  {
   "cell_type": "code",
   "execution_count": 82,
   "id": "7432b96e",
   "metadata": {},
   "outputs": [],
   "source": [
    "# We save the file locally before uploading it on github\n",
    "df_fua.to_csv('full_sample.csv', index = False)"
   ]
  }
 ],
 "metadata": {
  "kernelspec": {
   "display_name": ".venv",
   "language": "python",
   "name": "python3"
  },
  "language_info": {
   "codemirror_mode": {
    "name": "ipython",
    "version": 3
   },
   "file_extension": ".py",
   "mimetype": "text/x-python",
   "name": "python",
   "nbconvert_exporter": "python",
   "pygments_lexer": "ipython3",
   "version": "3.9.6"
  }
 },
 "nbformat": 4,
 "nbformat_minor": 5
}
